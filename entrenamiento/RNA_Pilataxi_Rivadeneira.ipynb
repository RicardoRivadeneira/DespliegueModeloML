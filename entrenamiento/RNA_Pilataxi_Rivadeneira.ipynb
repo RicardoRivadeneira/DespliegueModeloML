{
 "cells": [
  {
   "cell_type": "code",
   "execution_count": 1,
   "id": "6aa63f59-ce1b-4b9f-b01a-73cd48c7a962",
   "metadata": {},
   "outputs": [],
   "source": [
    "import pandas as pd\n",
    "from sklearn.model_selection import train_test_split\n",
    "from sklearn.preprocessing import StandardScaler\n",
    "import tensorflow as tf\n",
    "from tensorflow.keras.models import Sequential\n",
    "from tensorflow.keras.layers import Dense\n",
    "from tensorflow.keras.utils import to_categorical\n",
    "import matplotlib.pyplot as plt\n",
    "from sklearn.metrics import confusion_matrix\n",
    "import seaborn as sns\n",
    "from sklearn.metrics import confusion_matrix, classification_report, ConfusionMatrixDisplay"
   ]
  },
  {
   "cell_type": "code",
   "execution_count": 3,
   "id": "1643e57d-ccf6-4ed4-b66a-b72b23f5f48b",
   "metadata": {},
   "outputs": [
    {
     "name": "stdout",
     "output_type": "stream",
     "text": [
      "(48841, 15)\n"
     ]
    },
    {
     "data": {
      "text/html": [
       "<div>\n",
       "<style scoped>\n",
       "    .dataframe tbody tr th:only-of-type {\n",
       "        vertical-align: middle;\n",
       "    }\n",
       "\n",
       "    .dataframe tbody tr th {\n",
       "        vertical-align: top;\n",
       "    }\n",
       "\n",
       "    .dataframe thead th {\n",
       "        text-align: right;\n",
       "    }\n",
       "</style>\n",
       "<table border=\"1\" class=\"dataframe\">\n",
       "  <thead>\n",
       "    <tr style=\"text-align: right;\">\n",
       "      <th></th>\n",
       "      <th>39</th>\n",
       "      <th>State-gov</th>\n",
       "      <th>77516</th>\n",
       "      <th>Bachelors</th>\n",
       "      <th>13</th>\n",
       "      <th>Never-married</th>\n",
       "      <th>Adm-clerical</th>\n",
       "      <th>Not-in-family</th>\n",
       "      <th>White</th>\n",
       "      <th>Male</th>\n",
       "      <th>2174</th>\n",
       "      <th>0</th>\n",
       "      <th>40</th>\n",
       "      <th>United-States</th>\n",
       "      <th>&lt;=50K</th>\n",
       "    </tr>\n",
       "  </thead>\n",
       "  <tbody>\n",
       "    <tr>\n",
       "      <th>0</th>\n",
       "      <td>50</td>\n",
       "      <td>Self-emp-not-inc</td>\n",
       "      <td>83311</td>\n",
       "      <td>Bachelors</td>\n",
       "      <td>13</td>\n",
       "      <td>Married-civ-spouse</td>\n",
       "      <td>Exec-managerial</td>\n",
       "      <td>Husband</td>\n",
       "      <td>White</td>\n",
       "      <td>Male</td>\n",
       "      <td>0</td>\n",
       "      <td>0</td>\n",
       "      <td>13</td>\n",
       "      <td>United-States</td>\n",
       "      <td>&lt;=50K</td>\n",
       "    </tr>\n",
       "    <tr>\n",
       "      <th>1</th>\n",
       "      <td>38</td>\n",
       "      <td>Private</td>\n",
       "      <td>215646</td>\n",
       "      <td>HS-grad</td>\n",
       "      <td>9</td>\n",
       "      <td>Divorced</td>\n",
       "      <td>Handlers-cleaners</td>\n",
       "      <td>Not-in-family</td>\n",
       "      <td>White</td>\n",
       "      <td>Male</td>\n",
       "      <td>0</td>\n",
       "      <td>0</td>\n",
       "      <td>40</td>\n",
       "      <td>United-States</td>\n",
       "      <td>&lt;=50K</td>\n",
       "    </tr>\n",
       "    <tr>\n",
       "      <th>2</th>\n",
       "      <td>53</td>\n",
       "      <td>Private</td>\n",
       "      <td>234721</td>\n",
       "      <td>11th</td>\n",
       "      <td>7</td>\n",
       "      <td>Married-civ-spouse</td>\n",
       "      <td>Handlers-cleaners</td>\n",
       "      <td>Husband</td>\n",
       "      <td>Black</td>\n",
       "      <td>Male</td>\n",
       "      <td>0</td>\n",
       "      <td>0</td>\n",
       "      <td>40</td>\n",
       "      <td>United-States</td>\n",
       "      <td>&lt;=50K</td>\n",
       "    </tr>\n",
       "    <tr>\n",
       "      <th>3</th>\n",
       "      <td>28</td>\n",
       "      <td>Private</td>\n",
       "      <td>338409</td>\n",
       "      <td>Bachelors</td>\n",
       "      <td>13</td>\n",
       "      <td>Married-civ-spouse</td>\n",
       "      <td>Prof-specialty</td>\n",
       "      <td>Wife</td>\n",
       "      <td>Black</td>\n",
       "      <td>Female</td>\n",
       "      <td>0</td>\n",
       "      <td>0</td>\n",
       "      <td>40</td>\n",
       "      <td>Cuba</td>\n",
       "      <td>&lt;=50K</td>\n",
       "    </tr>\n",
       "    <tr>\n",
       "      <th>4</th>\n",
       "      <td>37</td>\n",
       "      <td>Private</td>\n",
       "      <td>284582</td>\n",
       "      <td>Masters</td>\n",
       "      <td>14</td>\n",
       "      <td>Married-civ-spouse</td>\n",
       "      <td>Exec-managerial</td>\n",
       "      <td>Wife</td>\n",
       "      <td>White</td>\n",
       "      <td>Female</td>\n",
       "      <td>0</td>\n",
       "      <td>0</td>\n",
       "      <td>40</td>\n",
       "      <td>United-States</td>\n",
       "      <td>&lt;=50K</td>\n",
       "    </tr>\n",
       "  </tbody>\n",
       "</table>\n",
       "</div>"
      ],
      "text/plain": [
       "   39         State-gov   77516  Bachelors  13       Never-married  \\\n",
       "0  50  Self-emp-not-inc   83311  Bachelors  13  Married-civ-spouse   \n",
       "1  38           Private  215646    HS-grad   9            Divorced   \n",
       "2  53           Private  234721       11th   7  Married-civ-spouse   \n",
       "3  28           Private  338409  Bachelors  13  Married-civ-spouse   \n",
       "4  37           Private  284582    Masters  14  Married-civ-spouse   \n",
       "\n",
       "        Adm-clerical  Not-in-family  White    Male  2174  0  40  \\\n",
       "0    Exec-managerial        Husband  White    Male     0  0  13   \n",
       "1  Handlers-cleaners  Not-in-family  White    Male     0  0  40   \n",
       "2  Handlers-cleaners        Husband  Black    Male     0  0  40   \n",
       "3     Prof-specialty           Wife  Black  Female     0  0  40   \n",
       "4    Exec-managerial           Wife  White  Female     0  0  40   \n",
       "\n",
       "   United-States  <=50K  \n",
       "0  United-States  <=50K  \n",
       "1  United-States  <=50K  \n",
       "2  United-States  <=50K  \n",
       "3           Cuba  <=50K  \n",
       "4  United-States  <=50K  "
      ]
     },
     "execution_count": 3,
     "metadata": {},
     "output_type": "execute_result"
    }
   ],
   "source": [
    "filename = 'data_evaluacion.csv'\n",
    "df = pd.read_csv(filename)\n",
    "print (df.shape)\n",
    "df.head(5)"
   ]
  },
  {
   "cell_type": "code",
   "execution_count": 4,
   "id": "6a4de1a6-049d-412f-a87a-c7267f088e35",
   "metadata": {},
   "outputs": [
    {
     "name": "stdout",
     "output_type": "stream",
     "text": [
      "Valores nulos:\n",
      " 39               0\n",
      "State-gov        0\n",
      "77516            0\n",
      "Bachelors        0\n",
      "13               0\n",
      "Never-married    0\n",
      "Adm-clerical     0\n",
      "Not-in-family    0\n",
      "White            0\n",
      "Male             0\n",
      "2174             0\n",
      "0                0\n",
      "40               0\n",
      "United-States    0\n",
      "<=50K            0\n",
      "dtype: int64\n"
     ]
    }
   ],
   "source": [
    "# Verificar valores nulos\n",
    "missing_values = df.isnull().sum()\n",
    "print(\"Valores nulos:\\n\", missing_values)"
   ]
  },
  {
   "cell_type": "code",
   "execution_count": 6,
   "id": "30353d76-d347-4f30-b4b3-e6b0e57997d0",
   "metadata": {},
   "outputs": [],
   "source": [
    "# Convertir columnas categóricas a variables dummy\n",
    "categorical_columns = df.select_dtypes(include=['object']).columns\n",
    "data_dummies = pd.get_dummies(df, columns=categorical_columns, drop_first=True)"
   ]
  },
  {
   "cell_type": "code",
   "execution_count": 8,
   "id": "10e6e061-158a-40c2-8c3b-963e17b30f80",
   "metadata": {},
   "outputs": [],
   "source": [
    "# Normalizar columnas numéricas\n",
    "numeric_columns = df.select_dtypes(include=['int64', 'float64']).columns\n",
    "scaler = StandardScaler()\n",
    "data_dummies[numeric_columns] = scaler.fit_transform(data_dummies[numeric_columns])"
   ]
  },
  {
   "cell_type": "code",
   "execution_count": 9,
   "id": "819544a1-2559-4b1a-9206-76d6608d671e",
   "metadata": {},
   "outputs": [],
   "source": [
    "# Separar el conjunto de datos en características y etiqueta\n",
    "X = data_dummies.drop(columns=['<=50K_>50K'])\n",
    "y = data_dummies['<=50K_>50K']"
   ]
  },
  {
   "cell_type": "code",
   "execution_count": 10,
   "id": "b1227182-16ab-48af-8e3f-f12187c8834a",
   "metadata": {},
   "outputs": [],
   "source": [
    "# Dividir los datos en conjunto de entrenamiento y prueba\n",
    "X_train, X_test, y_train, y_test = train_test_split(X, y, test_size=0.2, random_state=42)"
   ]
  },
  {
   "cell_type": "code",
   "execution_count": 12,
   "id": "4f14dc93-6c39-48ca-b357-787f229ff79b",
   "metadata": {},
   "outputs": [],
   "source": [
    "model = Sequential([\n",
    "    Dense(64, input_dim=X_train.shape[1], activation='relu'),\n",
    "    Dense(32, activation='relu'),\n",
    "    Dense(1, activation='sigmoid')\n",
    "])"
   ]
  },
  {
   "cell_type": "code",
   "execution_count": 13,
   "id": "659e8f88-6202-475d-8024-1d0f8a034e02",
   "metadata": {},
   "outputs": [],
   "source": [
    "model.compile(optimizer='adam', loss='binary_crossentropy', metrics=['accuracy'])"
   ]
  },
  {
   "cell_type": "code",
   "execution_count": 14,
   "id": "a175fe3c-41fb-4c52-8b35-a90e7bd20ecf",
   "metadata": {},
   "outputs": [
    {
     "name": "stdout",
     "output_type": "stream",
     "text": [
      "Epoch 1/100\n",
      "\u001b[1m1221/1221\u001b[0m \u001b[32m━━━━━━━━━━━━━━━━━━━━\u001b[0m\u001b[37m\u001b[0m \u001b[1m10s\u001b[0m 3ms/step - accuracy: 0.8352 - loss: 0.3588 - val_accuracy: 0.8521 - val_loss: 0.3159\n",
      "Epoch 2/100\n",
      "\u001b[1m1221/1221\u001b[0m \u001b[32m━━━━━━━━━━━━━━━━━━━━\u001b[0m\u001b[37m\u001b[0m \u001b[1m3s\u001b[0m 2ms/step - accuracy: 0.8551 - loss: 0.3085 - val_accuracy: 0.8528 - val_loss: 0.3147\n",
      "Epoch 3/100\n",
      "\u001b[1m1221/1221\u001b[0m \u001b[32m━━━━━━━━━━━━━━━━━━━━\u001b[0m\u001b[37m\u001b[0m \u001b[1m3s\u001b[0m 2ms/step - accuracy: 0.8591 - loss: 0.3065 - val_accuracy: 0.8523 - val_loss: 0.3145\n",
      "Epoch 4/100\n",
      "\u001b[1m1221/1221\u001b[0m \u001b[32m━━━━━━━━━━━━━━━━━━━━\u001b[0m\u001b[37m\u001b[0m \u001b[1m3s\u001b[0m 3ms/step - accuracy: 0.8626 - loss: 0.3012 - val_accuracy: 0.8520 - val_loss: 0.3121\n",
      "Epoch 5/100\n",
      "\u001b[1m1221/1221\u001b[0m \u001b[32m━━━━━━━━━━━━━━━━━━━━\u001b[0m\u001b[37m\u001b[0m \u001b[1m3s\u001b[0m 3ms/step - accuracy: 0.8634 - loss: 0.2954 - val_accuracy: 0.8533 - val_loss: 0.3111\n",
      "Epoch 6/100\n",
      "\u001b[1m1221/1221\u001b[0m \u001b[32m━━━━━━━━━━━━━━━━━━━━\u001b[0m\u001b[37m\u001b[0m \u001b[1m3s\u001b[0m 2ms/step - accuracy: 0.8642 - loss: 0.2965 - val_accuracy: 0.8528 - val_loss: 0.3145\n",
      "Epoch 7/100\n",
      "\u001b[1m1221/1221\u001b[0m \u001b[32m━━━━━━━━━━━━━━━━━━━━\u001b[0m\u001b[37m\u001b[0m \u001b[1m3s\u001b[0m 3ms/step - accuracy: 0.8658 - loss: 0.2915 - val_accuracy: 0.8495 - val_loss: 0.3141\n",
      "Epoch 8/100\n",
      "\u001b[1m1221/1221\u001b[0m \u001b[32m━━━━━━━━━━━━━━━━━━━━\u001b[0m\u001b[37m\u001b[0m \u001b[1m3s\u001b[0m 2ms/step - accuracy: 0.8693 - loss: 0.2861 - val_accuracy: 0.8526 - val_loss: 0.3138\n",
      "Epoch 9/100\n",
      "\u001b[1m1221/1221\u001b[0m \u001b[32m━━━━━━━━━━━━━━━━━━━━\u001b[0m\u001b[37m\u001b[0m \u001b[1m3s\u001b[0m 3ms/step - accuracy: 0.8677 - loss: 0.2878 - val_accuracy: 0.8543 - val_loss: 0.3146\n",
      "Epoch 10/100\n",
      "\u001b[1m1221/1221\u001b[0m \u001b[32m━━━━━━━━━━━━━━━━━━━━\u001b[0m\u001b[37m\u001b[0m \u001b[1m3s\u001b[0m 2ms/step - accuracy: 0.8694 - loss: 0.2846 - val_accuracy: 0.8518 - val_loss: 0.3142\n",
      "Epoch 11/100\n",
      "\u001b[1m1221/1221\u001b[0m \u001b[32m━━━━━━━━━━━━━━━━━━━━\u001b[0m\u001b[37m\u001b[0m \u001b[1m4s\u001b[0m 2ms/step - accuracy: 0.8686 - loss: 0.2831 - val_accuracy: 0.8538 - val_loss: 0.3138\n",
      "Epoch 12/100\n",
      "\u001b[1m1221/1221\u001b[0m \u001b[32m━━━━━━━━━━━━━━━━━━━━\u001b[0m\u001b[37m\u001b[0m \u001b[1m3s\u001b[0m 2ms/step - accuracy: 0.8761 - loss: 0.2735 - val_accuracy: 0.8523 - val_loss: 0.3162\n",
      "Epoch 13/100\n",
      "\u001b[1m1221/1221\u001b[0m \u001b[32m━━━━━━━━━━━━━━━━━━━━\u001b[0m\u001b[37m\u001b[0m \u001b[1m4s\u001b[0m 3ms/step - accuracy: 0.8718 - loss: 0.2758 - val_accuracy: 0.8512 - val_loss: 0.3177\n",
      "Epoch 14/100\n",
      "\u001b[1m1221/1221\u001b[0m \u001b[32m━━━━━━━━━━━━━━━━━━━━\u001b[0m\u001b[37m\u001b[0m \u001b[1m3s\u001b[0m 1ms/step - accuracy: 0.8742 - loss: 0.2766 - val_accuracy: 0.8508 - val_loss: 0.3227\n",
      "Epoch 15/100\n",
      "\u001b[1m1221/1221\u001b[0m \u001b[32m━━━━━━━━━━━━━━━━━━━━\u001b[0m\u001b[37m\u001b[0m \u001b[1m3s\u001b[0m 3ms/step - accuracy: 0.8741 - loss: 0.2724 - val_accuracy: 0.8483 - val_loss: 0.3215\n",
      "Epoch 16/100\n",
      "\u001b[1m1221/1221\u001b[0m \u001b[32m━━━━━━━━━━━━━━━━━━━━\u001b[0m\u001b[37m\u001b[0m \u001b[1m4s\u001b[0m 3ms/step - accuracy: 0.8740 - loss: 0.2717 - val_accuracy: 0.8478 - val_loss: 0.3250\n",
      "Epoch 17/100\n",
      "\u001b[1m1221/1221\u001b[0m \u001b[32m━━━━━━━━━━━━━━━━━━━━\u001b[0m\u001b[37m\u001b[0m \u001b[1m4s\u001b[0m 3ms/step - accuracy: 0.8748 - loss: 0.2730 - val_accuracy: 0.8493 - val_loss: 0.3231\n",
      "Epoch 18/100\n",
      "\u001b[1m1221/1221\u001b[0m \u001b[32m━━━━━━━━━━━━━━━━━━━━\u001b[0m\u001b[37m\u001b[0m \u001b[1m4s\u001b[0m 3ms/step - accuracy: 0.8759 - loss: 0.2666 - val_accuracy: 0.8525 - val_loss: 0.3223\n",
      "Epoch 19/100\n",
      "\u001b[1m1221/1221\u001b[0m \u001b[32m━━━━━━━━━━━━━━━━━━━━\u001b[0m\u001b[37m\u001b[0m \u001b[1m3s\u001b[0m 2ms/step - accuracy: 0.8778 - loss: 0.2637 - val_accuracy: 0.8509 - val_loss: 0.3254\n",
      "Epoch 20/100\n",
      "\u001b[1m1221/1221\u001b[0m \u001b[32m━━━━━━━━━━━━━━━━━━━━\u001b[0m\u001b[37m\u001b[0m \u001b[1m4s\u001b[0m 3ms/step - accuracy: 0.8788 - loss: 0.2632 - val_accuracy: 0.8490 - val_loss: 0.3264\n",
      "Epoch 21/100\n",
      "\u001b[1m1221/1221\u001b[0m \u001b[32m━━━━━━━━━━━━━━━━━━━━\u001b[0m\u001b[37m\u001b[0m \u001b[1m4s\u001b[0m 3ms/step - accuracy: 0.8786 - loss: 0.2613 - val_accuracy: 0.8481 - val_loss: 0.3329\n",
      "Epoch 22/100\n",
      "\u001b[1m1221/1221\u001b[0m \u001b[32m━━━━━━━━━━━━━━━━━━━━\u001b[0m\u001b[37m\u001b[0m \u001b[1m4s\u001b[0m 3ms/step - accuracy: 0.8814 - loss: 0.2578 - val_accuracy: 0.8515 - val_loss: 0.3286\n",
      "Epoch 23/100\n",
      "\u001b[1m1221/1221\u001b[0m \u001b[32m━━━━━━━━━━━━━━━━━━━━\u001b[0m\u001b[37m\u001b[0m \u001b[1m4s\u001b[0m 3ms/step - accuracy: 0.8800 - loss: 0.2608 - val_accuracy: 0.8504 - val_loss: 0.3351\n",
      "Epoch 24/100\n",
      "\u001b[1m1221/1221\u001b[0m \u001b[32m━━━━━━━━━━━━━━━━━━━━\u001b[0m\u001b[37m\u001b[0m \u001b[1m4s\u001b[0m 3ms/step - accuracy: 0.8803 - loss: 0.2551 - val_accuracy: 0.8508 - val_loss: 0.3311\n",
      "Epoch 25/100\n",
      "\u001b[1m1221/1221\u001b[0m \u001b[32m━━━━━━━━━━━━━━━━━━━━\u001b[0m\u001b[37m\u001b[0m \u001b[1m4s\u001b[0m 1ms/step - accuracy: 0.8825 - loss: 0.2549 - val_accuracy: 0.8477 - val_loss: 0.3352\n",
      "Epoch 26/100\n",
      "\u001b[1m1221/1221\u001b[0m \u001b[32m━━━━━━━━━━━━━━━━━━━━\u001b[0m\u001b[37m\u001b[0m \u001b[1m3s\u001b[0m 3ms/step - accuracy: 0.8819 - loss: 0.2520 - val_accuracy: 0.8492 - val_loss: 0.3382\n",
      "Epoch 27/100\n",
      "\u001b[1m1221/1221\u001b[0m \u001b[32m━━━━━━━━━━━━━━━━━━━━\u001b[0m\u001b[37m\u001b[0m \u001b[1m4s\u001b[0m 3ms/step - accuracy: 0.8845 - loss: 0.2493 - val_accuracy: 0.8478 - val_loss: 0.3418\n",
      "Epoch 28/100\n",
      "\u001b[1m1221/1221\u001b[0m \u001b[32m━━━━━━━━━━━━━━━━━━━━\u001b[0m\u001b[37m\u001b[0m \u001b[1m3s\u001b[0m 3ms/step - accuracy: 0.8860 - loss: 0.2484 - val_accuracy: 0.8476 - val_loss: 0.3425\n",
      "Epoch 29/100\n",
      "\u001b[1m1221/1221\u001b[0m \u001b[32m━━━━━━━━━━━━━━━━━━━━\u001b[0m\u001b[37m\u001b[0m \u001b[1m4s\u001b[0m 3ms/step - accuracy: 0.8866 - loss: 0.2462 - val_accuracy: 0.8486 - val_loss: 0.3436\n",
      "Epoch 30/100\n",
      "\u001b[1m1221/1221\u001b[0m \u001b[32m━━━━━━━━━━━━━━━━━━━━\u001b[0m\u001b[37m\u001b[0m \u001b[1m4s\u001b[0m 3ms/step - accuracy: 0.8858 - loss: 0.2481 - val_accuracy: 0.8485 - val_loss: 0.3494\n",
      "Epoch 31/100\n",
      "\u001b[1m1221/1221\u001b[0m \u001b[32m━━━━━━━━━━━━━━━━━━━━\u001b[0m\u001b[37m\u001b[0m \u001b[1m4s\u001b[0m 2ms/step - accuracy: 0.8869 - loss: 0.2453 - val_accuracy: 0.8478 - val_loss: 0.3477\n",
      "Epoch 32/100\n",
      "\u001b[1m1221/1221\u001b[0m \u001b[32m━━━━━━━━━━━━━━━━━━━━\u001b[0m\u001b[37m\u001b[0m \u001b[1m3s\u001b[0m 2ms/step - accuracy: 0.8884 - loss: 0.2387 - val_accuracy: 0.8438 - val_loss: 0.3520\n",
      "Epoch 33/100\n",
      "\u001b[1m1221/1221\u001b[0m \u001b[32m━━━━━━━━━━━━━━━━━━━━\u001b[0m\u001b[37m\u001b[0m \u001b[1m4s\u001b[0m 3ms/step - accuracy: 0.8904 - loss: 0.2345 - val_accuracy: 0.8459 - val_loss: 0.3520\n",
      "Epoch 34/100\n",
      "\u001b[1m1221/1221\u001b[0m \u001b[32m━━━━━━━━━━━━━━━━━━━━\u001b[0m\u001b[37m\u001b[0m \u001b[1m4s\u001b[0m 2ms/step - accuracy: 0.8890 - loss: 0.2395 - val_accuracy: 0.8451 - val_loss: 0.3518\n",
      "Epoch 35/100\n",
      "\u001b[1m1221/1221\u001b[0m \u001b[32m━━━━━━━━━━━━━━━━━━━━\u001b[0m\u001b[37m\u001b[0m \u001b[1m3s\u001b[0m 3ms/step - accuracy: 0.8885 - loss: 0.2415 - val_accuracy: 0.8455 - val_loss: 0.3634\n",
      "Epoch 36/100\n",
      "\u001b[1m1221/1221\u001b[0m \u001b[32m━━━━━━━━━━━━━━━━━━━━\u001b[0m\u001b[37m\u001b[0m \u001b[1m4s\u001b[0m 2ms/step - accuracy: 0.8906 - loss: 0.2370 - val_accuracy: 0.8437 - val_loss: 0.3593\n",
      "Epoch 37/100\n",
      "\u001b[1m1221/1221\u001b[0m \u001b[32m━━━━━━━━━━━━━━━━━━━━\u001b[0m\u001b[37m\u001b[0m \u001b[1m2s\u001b[0m 2ms/step - accuracy: 0.8917 - loss: 0.2379 - val_accuracy: 0.8462 - val_loss: 0.3636\n",
      "Epoch 38/100\n",
      "\u001b[1m1221/1221\u001b[0m \u001b[32m━━━━━━━━━━━━━━━━━━━━\u001b[0m\u001b[37m\u001b[0m \u001b[1m3s\u001b[0m 3ms/step - accuracy: 0.8902 - loss: 0.2358 - val_accuracy: 0.8452 - val_loss: 0.3657\n",
      "Epoch 39/100\n",
      "\u001b[1m1221/1221\u001b[0m \u001b[32m━━━━━━━━━━━━━━━━━━━━\u001b[0m\u001b[37m\u001b[0m \u001b[1m3s\u001b[0m 3ms/step - accuracy: 0.8922 - loss: 0.2344 - val_accuracy: 0.8426 - val_loss: 0.3651\n",
      "Epoch 40/100\n",
      "\u001b[1m1221/1221\u001b[0m \u001b[32m━━━━━━━━━━━━━━━━━━━━\u001b[0m\u001b[37m\u001b[0m \u001b[1m3s\u001b[0m 3ms/step - accuracy: 0.8900 - loss: 0.2335 - val_accuracy: 0.8457 - val_loss: 0.3650\n",
      "Epoch 41/100\n",
      "\u001b[1m1221/1221\u001b[0m \u001b[32m━━━━━━━━━━━━━━━━━━━━\u001b[0m\u001b[37m\u001b[0m \u001b[1m4s\u001b[0m 2ms/step - accuracy: 0.8934 - loss: 0.2287 - val_accuracy: 0.8433 - val_loss: 0.3701\n",
      "Epoch 42/100\n",
      "\u001b[1m1221/1221\u001b[0m \u001b[32m━━━━━━━━━━━━━━━━━━━━\u001b[0m\u001b[37m\u001b[0m \u001b[1m3s\u001b[0m 2ms/step - accuracy: 0.8936 - loss: 0.2297 - val_accuracy: 0.8391 - val_loss: 0.3737\n",
      "Epoch 43/100\n",
      "\u001b[1m1221/1221\u001b[0m \u001b[32m━━━━━━━━━━━━━━━━━━━━\u001b[0m\u001b[37m\u001b[0m \u001b[1m3s\u001b[0m 3ms/step - accuracy: 0.8925 - loss: 0.2310 - val_accuracy: 0.8352 - val_loss: 0.3883\n",
      "Epoch 44/100\n",
      "\u001b[1m1221/1221\u001b[0m \u001b[32m━━━━━━━━━━━━━━━━━━━━\u001b[0m\u001b[37m\u001b[0m \u001b[1m4s\u001b[0m 3ms/step - accuracy: 0.8924 - loss: 0.2310 - val_accuracy: 0.8391 - val_loss: 0.3771\n",
      "Epoch 45/100\n",
      "\u001b[1m1221/1221\u001b[0m \u001b[32m━━━━━━━━━━━━━━━━━━━━\u001b[0m\u001b[37m\u001b[0m \u001b[1m4s\u001b[0m 3ms/step - accuracy: 0.8955 - loss: 0.2273 - val_accuracy: 0.8418 - val_loss: 0.3775\n",
      "Epoch 46/100\n",
      "\u001b[1m1221/1221\u001b[0m \u001b[32m━━━━━━━━━━━━━━━━━━━━\u001b[0m\u001b[37m\u001b[0m \u001b[1m3s\u001b[0m 1ms/step - accuracy: 0.8959 - loss: 0.2269 - val_accuracy: 0.8425 - val_loss: 0.3824\n",
      "Epoch 47/100\n",
      "\u001b[1m1221/1221\u001b[0m \u001b[32m━━━━━━━━━━━━━━━━━━━━\u001b[0m\u001b[37m\u001b[0m \u001b[1m3s\u001b[0m 2ms/step - accuracy: 0.8969 - loss: 0.2254 - val_accuracy: 0.8421 - val_loss: 0.3877\n",
      "Epoch 48/100\n",
      "\u001b[1m1221/1221\u001b[0m \u001b[32m━━━━━━━━━━━━━━━━━━━━\u001b[0m\u001b[37m\u001b[0m \u001b[1m4s\u001b[0m 3ms/step - accuracy: 0.8969 - loss: 0.2230 - val_accuracy: 0.8444 - val_loss: 0.3873\n",
      "Epoch 49/100\n",
      "\u001b[1m1221/1221\u001b[0m \u001b[32m━━━━━━━━━━━━━━━━━━━━\u001b[0m\u001b[37m\u001b[0m \u001b[1m3s\u001b[0m 3ms/step - accuracy: 0.8963 - loss: 0.2250 - val_accuracy: 0.8400 - val_loss: 0.3896\n",
      "Epoch 50/100\n",
      "\u001b[1m1221/1221\u001b[0m \u001b[32m━━━━━━━━━━━━━━━━━━━━\u001b[0m\u001b[37m\u001b[0m \u001b[1m4s\u001b[0m 3ms/step - accuracy: 0.8971 - loss: 0.2229 - val_accuracy: 0.8354 - val_loss: 0.3952\n",
      "Epoch 51/100\n",
      "\u001b[1m1221/1221\u001b[0m \u001b[32m━━━━━━━━━━━━━━━━━━━━\u001b[0m\u001b[37m\u001b[0m \u001b[1m4s\u001b[0m 2ms/step - accuracy: 0.8984 - loss: 0.2204 - val_accuracy: 0.8419 - val_loss: 0.3890\n",
      "Epoch 52/100\n",
      "\u001b[1m1221/1221\u001b[0m \u001b[32m━━━━━━━━━━━━━━━━━━━━\u001b[0m\u001b[37m\u001b[0m \u001b[1m2s\u001b[0m 1ms/step - accuracy: 0.8972 - loss: 0.2241 - val_accuracy: 0.8387 - val_loss: 0.3999\n",
      "Epoch 53/100\n",
      "\u001b[1m1221/1221\u001b[0m \u001b[32m━━━━━━━━━━━━━━━━━━━━\u001b[0m\u001b[37m\u001b[0m \u001b[1m4s\u001b[0m 3ms/step - accuracy: 0.8971 - loss: 0.2220 - val_accuracy: 0.8407 - val_loss: 0.3961\n",
      "Epoch 54/100\n",
      "\u001b[1m1221/1221\u001b[0m \u001b[32m━━━━━━━━━━━━━━━━━━━━\u001b[0m\u001b[37m\u001b[0m \u001b[1m4s\u001b[0m 3ms/step - accuracy: 0.8978 - loss: 0.2219 - val_accuracy: 0.8389 - val_loss: 0.3974\n",
      "Epoch 55/100\n",
      "\u001b[1m1221/1221\u001b[0m \u001b[32m━━━━━━━━━━━━━━━━━━━━\u001b[0m\u001b[37m\u001b[0m \u001b[1m4s\u001b[0m 3ms/step - accuracy: 0.8979 - loss: 0.2182 - val_accuracy: 0.8312 - val_loss: 0.4072\n",
      "Epoch 56/100\n",
      "\u001b[1m1221/1221\u001b[0m \u001b[32m━━━━━━━━━━━━━━━━━━━━\u001b[0m\u001b[37m\u001b[0m \u001b[1m4s\u001b[0m 3ms/step - accuracy: 0.8974 - loss: 0.2193 - val_accuracy: 0.8370 - val_loss: 0.3987\n",
      "Epoch 57/100\n",
      "\u001b[1m1221/1221\u001b[0m \u001b[32m━━━━━━━━━━━━━━━━━━━━\u001b[0m\u001b[37m\u001b[0m \u001b[1m3s\u001b[0m 3ms/step - accuracy: 0.8968 - loss: 0.2208 - val_accuracy: 0.8422 - val_loss: 0.4077\n",
      "Epoch 58/100\n",
      "\u001b[1m1221/1221\u001b[0m \u001b[32m━━━━━━━━━━━━━━━━━━━━\u001b[0m\u001b[37m\u001b[0m \u001b[1m3s\u001b[0m 3ms/step - accuracy: 0.9004 - loss: 0.2138 - val_accuracy: 0.8398 - val_loss: 0.4106\n",
      "Epoch 59/100\n",
      "\u001b[1m1221/1221\u001b[0m \u001b[32m━━━━━━━━━━━━━━━━━━━━\u001b[0m\u001b[37m\u001b[0m \u001b[1m3s\u001b[0m 3ms/step - accuracy: 0.8974 - loss: 0.2172 - val_accuracy: 0.8401 - val_loss: 0.4108\n",
      "Epoch 60/100\n",
      "\u001b[1m1221/1221\u001b[0m \u001b[32m━━━━━━━━━━━━━━━━━━━━\u001b[0m\u001b[37m\u001b[0m \u001b[1m4s\u001b[0m 1ms/step - accuracy: 0.8988 - loss: 0.2158 - val_accuracy: 0.8380 - val_loss: 0.4190\n",
      "Epoch 61/100\n",
      "\u001b[1m1221/1221\u001b[0m \u001b[32m━━━━━━━━━━━━━━━━━━━━\u001b[0m\u001b[37m\u001b[0m \u001b[1m3s\u001b[0m 2ms/step - accuracy: 0.9003 - loss: 0.2139 - val_accuracy: 0.8379 - val_loss: 0.4140\n",
      "Epoch 62/100\n",
      "\u001b[1m1221/1221\u001b[0m \u001b[32m━━━━━━━━━━━━━━━━━━━━\u001b[0m\u001b[37m\u001b[0m \u001b[1m4s\u001b[0m 3ms/step - accuracy: 0.9027 - loss: 0.2103 - val_accuracy: 0.8409 - val_loss: 0.4172\n",
      "Epoch 63/100\n",
      "\u001b[1m1221/1221\u001b[0m \u001b[32m━━━━━━━━━━━━━━━━━━━━\u001b[0m\u001b[37m\u001b[0m \u001b[1m3s\u001b[0m 1ms/step - accuracy: 0.9008 - loss: 0.2160 - val_accuracy: 0.8388 - val_loss: 0.4205\n",
      "Epoch 64/100\n",
      "\u001b[1m1221/1221\u001b[0m \u001b[32m━━━━━━━━━━━━━━━━━━━━\u001b[0m\u001b[37m\u001b[0m \u001b[1m3s\u001b[0m 3ms/step - accuracy: 0.9035 - loss: 0.2104 - val_accuracy: 0.8389 - val_loss: 0.4215\n",
      "Epoch 65/100\n",
      "\u001b[1m1221/1221\u001b[0m \u001b[32m━━━━━━━━━━━━━━━━━━━━\u001b[0m\u001b[37m\u001b[0m \u001b[1m4s\u001b[0m 3ms/step - accuracy: 0.9031 - loss: 0.2128 - val_accuracy: 0.8348 - val_loss: 0.4348\n",
      "Epoch 66/100\n",
      "\u001b[1m1221/1221\u001b[0m \u001b[32m━━━━━━━━━━━━━━━━━━━━\u001b[0m\u001b[37m\u001b[0m \u001b[1m3s\u001b[0m 1ms/step - accuracy: 0.9024 - loss: 0.2095 - val_accuracy: 0.8375 - val_loss: 0.4296\n",
      "Epoch 67/100\n",
      "\u001b[1m1221/1221\u001b[0m \u001b[32m━━━━━━━━━━━━━━━━━━━━\u001b[0m\u001b[37m\u001b[0m \u001b[1m3s\u001b[0m 3ms/step - accuracy: 0.9030 - loss: 0.2110 - val_accuracy: 0.8363 - val_loss: 0.4274\n",
      "Epoch 68/100\n",
      "\u001b[1m1221/1221\u001b[0m \u001b[32m━━━━━━━━━━━━━━━━━━━━\u001b[0m\u001b[37m\u001b[0m \u001b[1m4s\u001b[0m 3ms/step - accuracy: 0.8999 - loss: 0.2138 - val_accuracy: 0.8350 - val_loss: 0.4335\n",
      "Epoch 69/100\n",
      "\u001b[1m1221/1221\u001b[0m \u001b[32m━━━━━━━━━━━━━━━━━━━━\u001b[0m\u001b[37m\u001b[0m \u001b[1m4s\u001b[0m 3ms/step - accuracy: 0.9042 - loss: 0.2105 - val_accuracy: 0.8353 - val_loss: 0.4238\n",
      "Epoch 70/100\n",
      "\u001b[1m1221/1221\u001b[0m \u001b[32m━━━━━━━━━━━━━━━━━━━━\u001b[0m\u001b[37m\u001b[0m \u001b[1m4s\u001b[0m 3ms/step - accuracy: 0.9055 - loss: 0.2062 - val_accuracy: 0.8386 - val_loss: 0.4342\n",
      "Epoch 71/100\n",
      "\u001b[1m1221/1221\u001b[0m \u001b[32m━━━━━━━━━━━━━━━━━━━━\u001b[0m\u001b[37m\u001b[0m \u001b[1m3s\u001b[0m 3ms/step - accuracy: 0.9003 - loss: 0.2094 - val_accuracy: 0.8386 - val_loss: 0.4363\n",
      "Epoch 72/100\n",
      "\u001b[1m1221/1221\u001b[0m \u001b[32m━━━━━━━━━━━━━━━━━━━━\u001b[0m\u001b[37m\u001b[0m \u001b[1m4s\u001b[0m 3ms/step - accuracy: 0.9034 - loss: 0.2091 - val_accuracy: 0.8340 - val_loss: 0.4370\n",
      "Epoch 73/100\n",
      "\u001b[1m1221/1221\u001b[0m \u001b[32m━━━━━━━━━━━━━━━━━━━━\u001b[0m\u001b[37m\u001b[0m \u001b[1m3s\u001b[0m 3ms/step - accuracy: 0.9064 - loss: 0.2038 - val_accuracy: 0.8360 - val_loss: 0.4530\n",
      "Epoch 74/100\n",
      "\u001b[1m1221/1221\u001b[0m \u001b[32m━━━━━━━━━━━━━━━━━━━━\u001b[0m\u001b[37m\u001b[0m \u001b[1m3s\u001b[0m 1ms/step - accuracy: 0.9058 - loss: 0.2052 - val_accuracy: 0.8314 - val_loss: 0.4473\n",
      "Epoch 75/100\n",
      "\u001b[1m1221/1221\u001b[0m \u001b[32m━━━━━━━━━━━━━━━━━━━━\u001b[0m\u001b[37m\u001b[0m \u001b[1m2s\u001b[0m 2ms/step - accuracy: 0.9049 - loss: 0.2054 - val_accuracy: 0.8358 - val_loss: 0.4449\n",
      "Epoch 76/100\n",
      "\u001b[1m1221/1221\u001b[0m \u001b[32m━━━━━━━━━━━━━━━━━━━━\u001b[0m\u001b[37m\u001b[0m \u001b[1m3s\u001b[0m 3ms/step - accuracy: 0.9050 - loss: 0.2084 - val_accuracy: 0.8351 - val_loss: 0.4506\n",
      "Epoch 77/100\n",
      "\u001b[1m1221/1221\u001b[0m \u001b[32m━━━━━━━━━━━━━━━━━━━━\u001b[0m\u001b[37m\u001b[0m \u001b[1m3s\u001b[0m 3ms/step - accuracy: 0.9047 - loss: 0.2047 - val_accuracy: 0.8345 - val_loss: 0.4407\n",
      "Epoch 78/100\n",
      "\u001b[1m1221/1221\u001b[0m \u001b[32m━━━━━━━━━━━━━━━━━━━━\u001b[0m\u001b[37m\u001b[0m \u001b[1m4s\u001b[0m 3ms/step - accuracy: 0.9071 - loss: 0.2024 - val_accuracy: 0.8355 - val_loss: 0.4500\n",
      "Epoch 79/100\n",
      "\u001b[1m1221/1221\u001b[0m \u001b[32m━━━━━━━━━━━━━━━━━━━━\u001b[0m\u001b[37m\u001b[0m \u001b[1m4s\u001b[0m 3ms/step - accuracy: 0.9059 - loss: 0.2036 - val_accuracy: 0.8371 - val_loss: 0.4610\n",
      "Epoch 80/100\n",
      "\u001b[1m1221/1221\u001b[0m \u001b[32m━━━━━━━━━━━━━━━━━━━━\u001b[0m\u001b[37m\u001b[0m \u001b[1m3s\u001b[0m 3ms/step - accuracy: 0.9077 - loss: 0.2006 - val_accuracy: 0.8380 - val_loss: 0.4616\n",
      "Epoch 81/100\n",
      "\u001b[1m1221/1221\u001b[0m \u001b[32m━━━━━━━━━━━━━━━━━━━━\u001b[0m\u001b[37m\u001b[0m \u001b[1m4s\u001b[0m 3ms/step - accuracy: 0.9081 - loss: 0.2018 - val_accuracy: 0.8350 - val_loss: 0.4566\n",
      "Epoch 82/100\n",
      "\u001b[1m1221/1221\u001b[0m \u001b[32m━━━━━━━━━━━━━━━━━━━━\u001b[0m\u001b[37m\u001b[0m \u001b[1m4s\u001b[0m 3ms/step - accuracy: 0.9058 - loss: 0.2037 - val_accuracy: 0.8352 - val_loss: 0.4585\n",
      "Epoch 83/100\n",
      "\u001b[1m1221/1221\u001b[0m \u001b[32m━━━━━━━━━━━━━━━━━━━━\u001b[0m\u001b[37m\u001b[0m \u001b[1m4s\u001b[0m 3ms/step - accuracy: 0.9072 - loss: 0.2008 - val_accuracy: 0.8323 - val_loss: 0.4703\n",
      "Epoch 84/100\n",
      "\u001b[1m1221/1221\u001b[0m \u001b[32m━━━━━━━━━━━━━━━━━━━━\u001b[0m\u001b[37m\u001b[0m \u001b[1m4s\u001b[0m 3ms/step - accuracy: 0.9087 - loss: 0.1964 - val_accuracy: 0.8330 - val_loss: 0.4698\n",
      "Epoch 85/100\n",
      "\u001b[1m1221/1221\u001b[0m \u001b[32m━━━━━━━━━━━━━━━━━━━━\u001b[0m\u001b[37m\u001b[0m \u001b[1m3s\u001b[0m 3ms/step - accuracy: 0.9067 - loss: 0.2026 - val_accuracy: 0.8292 - val_loss: 0.4703\n",
      "Epoch 86/100\n",
      "\u001b[1m1221/1221\u001b[0m \u001b[32m━━━━━━━━━━━━━━━━━━━━\u001b[0m\u001b[37m\u001b[0m \u001b[1m4s\u001b[0m 1ms/step - accuracy: 0.9109 - loss: 0.1956 - val_accuracy: 0.8336 - val_loss: 0.4640\n",
      "Epoch 87/100\n",
      "\u001b[1m1221/1221\u001b[0m \u001b[32m━━━━━━━━━━━━━━━━━━━━\u001b[0m\u001b[37m\u001b[0m \u001b[1m3s\u001b[0m 3ms/step - accuracy: 0.9077 - loss: 0.1988 - val_accuracy: 0.8354 - val_loss: 0.4792\n",
      "Epoch 88/100\n",
      "\u001b[1m1221/1221\u001b[0m \u001b[32m━━━━━━━━━━━━━━━━━━━━\u001b[0m\u001b[37m\u001b[0m \u001b[1m4s\u001b[0m 3ms/step - accuracy: 0.9073 - loss: 0.1981 - val_accuracy: 0.8352 - val_loss: 0.4713\n",
      "Epoch 89/100\n",
      "\u001b[1m1221/1221\u001b[0m \u001b[32m━━━━━━━━━━━━━━━━━━━━\u001b[0m\u001b[37m\u001b[0m \u001b[1m3s\u001b[0m 3ms/step - accuracy: 0.9078 - loss: 0.1994 - val_accuracy: 0.8336 - val_loss: 0.4825\n",
      "Epoch 90/100\n",
      "\u001b[1m1221/1221\u001b[0m \u001b[32m━━━━━━━━━━━━━━━━━━━━\u001b[0m\u001b[37m\u001b[0m \u001b[1m3s\u001b[0m 3ms/step - accuracy: 0.9089 - loss: 0.1933 - val_accuracy: 0.8327 - val_loss: 0.4828\n",
      "Epoch 91/100\n",
      "\u001b[1m1221/1221\u001b[0m \u001b[32m━━━━━━━━━━━━━━━━━━━━\u001b[0m\u001b[37m\u001b[0m \u001b[1m4s\u001b[0m 1ms/step - accuracy: 0.9107 - loss: 0.1955 - val_accuracy: 0.8339 - val_loss: 0.4748\n",
      "Epoch 92/100\n",
      "\u001b[1m1221/1221\u001b[0m \u001b[32m━━━━━━━━━━━━━━━━━━━━\u001b[0m\u001b[37m\u001b[0m \u001b[1m3s\u001b[0m 2ms/step - accuracy: 0.9112 - loss: 0.1943 - val_accuracy: 0.8352 - val_loss: 0.4819\n",
      "Epoch 93/100\n",
      "\u001b[1m1221/1221\u001b[0m \u001b[32m━━━━━━━━━━━━━━━━━━━━\u001b[0m\u001b[37m\u001b[0m \u001b[1m4s\u001b[0m 3ms/step - accuracy: 0.9111 - loss: 0.1959 - val_accuracy: 0.8335 - val_loss: 0.4854\n",
      "Epoch 94/100\n",
      "\u001b[1m1221/1221\u001b[0m \u001b[32m━━━━━━━━━━━━━━━━━━━━\u001b[0m\u001b[37m\u001b[0m \u001b[1m3s\u001b[0m 1ms/step - accuracy: 0.9109 - loss: 0.1936 - val_accuracy: 0.8337 - val_loss: 0.4851\n",
      "Epoch 95/100\n",
      "\u001b[1m1221/1221\u001b[0m \u001b[32m━━━━━━━━━━━━━━━━━━━━\u001b[0m\u001b[37m\u001b[0m \u001b[1m2s\u001b[0m 2ms/step - accuracy: 0.9100 - loss: 0.1973 - val_accuracy: 0.8331 - val_loss: 0.4932\n",
      "Epoch 96/100\n",
      "\u001b[1m1221/1221\u001b[0m \u001b[32m━━━━━━━━━━━━━━━━━━━━\u001b[0m\u001b[37m\u001b[0m \u001b[1m4s\u001b[0m 3ms/step - accuracy: 0.9108 - loss: 0.1942 - val_accuracy: 0.8352 - val_loss: 0.4969\n",
      "Epoch 97/100\n",
      "\u001b[1m1221/1221\u001b[0m \u001b[32m━━━━━━━━━━━━━━━━━━━━\u001b[0m\u001b[37m\u001b[0m \u001b[1m4s\u001b[0m 2ms/step - accuracy: 0.9106 - loss: 0.1963 - val_accuracy: 0.8352 - val_loss: 0.4965\n",
      "Epoch 98/100\n",
      "\u001b[1m1221/1221\u001b[0m \u001b[32m━━━━━━━━━━━━━━━━━━━━\u001b[0m\u001b[37m\u001b[0m \u001b[1m3s\u001b[0m 3ms/step - accuracy: 0.9097 - loss: 0.1944 - val_accuracy: 0.8346 - val_loss: 0.4954\n",
      "Epoch 99/100\n",
      "\u001b[1m1221/1221\u001b[0m \u001b[32m━━━━━━━━━━━━━━━━━━━━\u001b[0m\u001b[37m\u001b[0m \u001b[1m3s\u001b[0m 3ms/step - accuracy: 0.9122 - loss: 0.1931 - val_accuracy: 0.8297 - val_loss: 0.4986\n",
      "Epoch 100/100\n",
      "\u001b[1m1221/1221\u001b[0m \u001b[32m━━━━━━━━━━━━━━━━━━━━\u001b[0m\u001b[37m\u001b[0m \u001b[1m4s\u001b[0m 3ms/step - accuracy: 0.9128 - loss: 0.1906 - val_accuracy: 0.8331 - val_loss: 0.4966\n"
     ]
    }
   ],
   "source": [
    "# Entrenar el modelo\n",
    "history = model.fit(X_train, y_train, epochs=100, batch_size=32, validation_data=(X_test, y_test))"
   ]
  },
  {
   "cell_type": "code",
   "execution_count": 15,
   "id": "38d08f47-bb8a-4f46-9544-0ea4f5a08af7",
   "metadata": {},
   "outputs": [
    {
     "name": "stdout",
     "output_type": "stream",
     "text": [
      "\u001b[1m306/306\u001b[0m \u001b[32m━━━━━━━━━━━━━━━━━━━━\u001b[0m\u001b[37m\u001b[0m \u001b[1m0s\u001b[0m 914us/step - accuracy: 0.8331 - loss: 0.5046\n",
      "Pérdida: 0.49663496017456055, Precisión: 0.8331456780433655\n"
     ]
    }
   ],
   "source": [
    "# Evaluar el modelo\n",
    "loss, accuracy = model.evaluate(X_test, y_test)\n",
    "print(f\"Pérdida: {loss}, Precisión: {accuracy}\")"
   ]
  },
  {
   "cell_type": "code",
   "execution_count": 27,
   "id": "5133b93a-063a-4d5c-839a-4b7801aaa645",
   "metadata": {},
   "outputs": [
    {
     "name": "stdout",
     "output_type": "stream",
     "text": [
      "\u001b[1m306/306\u001b[0m \u001b[32m━━━━━━━━━━━━━━━━━━━━\u001b[0m\u001b[37m\u001b[0m \u001b[1m0s\u001b[0m 959us/step\n"
     ]
    }
   ],
   "source": [
    "# Realizar predicciones en el conjunto de prueba\n",
    "y_pred_prob = model.predict(X_test)\n",
    "y_pred = (y_pred_prob > 0.5).astype(int)"
   ]
  },
  {
   "cell_type": "code",
   "execution_count": 35,
   "id": "a1aa619a-2c49-493e-bb85-d3d5ee065580",
   "metadata": {},
   "outputs": [
    {
     "data": {
      "text/plain": [
       "<matplotlib.legend.Legend at 0x203e279dad0>"
      ]
     },
     "execution_count": 35,
     "metadata": {},
     "output_type": "execute_result"
    },
    {
     "data": {
      "image/png": "[encoded data removed]",
      "text/plain": [
       "<Figure size 1200x500 with 1 Axes>"
      ]
     },
     "metadata": {},
     "output_type": "display_data"
    }
   ],
   "source": [
    "# Graficar la pérdida y precisión\n",
    "plt.figure(figsize=(12, 5))\n",
    "\n",
    "plt.subplot(1, 2, 1)\n",
    "plt.plot(history.history['loss'], label='Entrenamiento')\n",
    "plt.plot(history.history['val_loss'], label='Validación')\n",
    "plt.title('Pérdida')\n",
    "plt.xlabel('Epochs')\n",
    "plt.ylabel('Pérdida')\n",
    "plt.legend()"
   ]
  },
  {
   "cell_type": "code",
   "execution_count": 29,
   "id": "848e7863-2cf7-4967-99ef-34548d35de3b",
   "metadata": {},
   "outputs": [
    {
     "data": {
      "image/png": "[encoded data removed]",
      "text/plain": [
       "<Figure size 640x480 with 1 Axes>"
      ]
     },
     "metadata": {},
     "output_type": "display_data"
    }
   ],
   "source": [
    "plt.subplot(1, 2, 2)\n",
    "plt.plot(history.history['accuracy'], label='Entrenamiento')\n",
    "plt.plot(history.history['val_accuracy'], label='Validación')\n",
    "plt.title('Precisión')\n",
    "plt.xlabel('Epochs')\n",
    "plt.ylabel('Precisión')\n",
    "plt.legend()\n",
    "\n",
    "plt.show()"
   ]
  },
  {
   "cell_type": "code",
   "execution_count": 30,
   "id": "c0ad52ec-a5b2-465f-aff1-187e0db46acf",
   "metadata": {},
   "outputs": [
    {
     "data": {
      "text/plain": [
       "array([[6777,  687],\n",
       "       [ 943, 1362]], dtype=int64)"
      ]
     },
     "execution_count": 30,
     "metadata": {},
     "output_type": "execute_result"
    }
   ],
   "source": [
    "# Calcular la matriz de confusión\n",
    "conf_m = confusion_matrix(y_test, y_pred)\n",
    "conf_m"
   ]
  },
  {
   "cell_type": "code",
   "execution_count": 43,
   "id": "a1fe5890-2a17-4e4b-801a-fa6287b90418",
   "metadata": {},
   "outputs": [
    {
     "data": {
      "image/png": "[encoded data removed]",
      "text/plain": [
       "<Figure size 640x480 with 2 Axes>"
      ]
     },
     "metadata": {},
     "output_type": "display_data"
    }
   ],
   "source": [
    "# Generar la gráfica de la matriz de confusión\n",
    "disp = ConfusionMatrixDisplay(confusion_matrix=conf_m, display_labels=['<=50K', '>50K'])\n",
    "disp.plot(cmap=plt.cm.Blues)\n",
    "plt.title('Matriz de Confusión')\n",
    "plt.show()"
   ]
  },
  {
   "cell_type": "code",
   "execution_count": 40,
   "id": "3dbcf33d-d9c3-48bd-95fa-844fb0b202d8",
   "metadata": {},
   "outputs": [
    {
     "name": "stdout",
     "output_type": "stream",
     "text": [
      "Reporte de Clasificación:\n",
      "              precision    recall  f1-score   support\n",
      "\n",
      "       <=50K       0.88      0.91      0.89      7464\n",
      "        >50K       0.66      0.59      0.63      2305\n",
      "\n",
      "    accuracy                           0.83      9769\n",
      "   macro avg       0.77      0.75      0.76      9769\n",
      "weighted avg       0.83      0.83      0.83      9769\n",
      "\n"
     ]
    }
   ],
   "source": [
    "# Reporte de clasificación\n",
    "report = classification_report(y_test, y_pred, target_names=['<=50K', '>50K'])\n",
    "print(\"Reporte de Clasificación:\")\n",
    "print(report)"
   ]
  },
  {
   "cell_type": "code",
   "execution_count": null,
   "id": "706bc7f4-a3d0-4da8-9e8b-01ffc4a49d33",
   "metadata": {},
   "outputs": [],
   "source": []
  }
 ],
 "metadata": {
  "kernelspec": {
   "display_name": "Python 3 (ipykernel)",
   "language": "python",
   "name": "python3"
  },
  "language_info": {
   "codemirror_mode": {
    "name": "ipython",
    "version": 3
   },
   "file_extension": ".py",
   "mimetype": "text/x-python",
   "name": "python",
   "nbconvert_exporter": "python",
   "pygments_lexer": "ipython3",
   "version": "3.11.7"
  }
 },
 "nbformat": 4,
 "nbformat_minor": 5
}
